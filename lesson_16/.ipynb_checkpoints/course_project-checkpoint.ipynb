{
 "cells": [
  {
   "cell_type": "markdown",
   "metadata": {},
   "source": [
    "### Чат бот с моделью\n",
    "https://huggingface.co/Grossmend/rudialogpt3_medium_based_on_gpt2"
   ]
  },
  {
   "cell_type": "code",
   "execution_count": null,
   "metadata": {
    "scrolled": true
   },
   "outputs": [],
   "source": [
    "import torch\n",
    "from transformers import AutoModelForCausalLM, AutoTokenizer\n",
    "\n",
    "tokenizer = AutoTokenizer.from_pretrained(\"./model\")\n",
    "model = AutoModelForCausalLM.from_pretrained(\"./model\")"
   ]
  },
  {
   "cell_type": "code",
   "execution_count": 14,
   "metadata": {
    "scrolled": true
   },
   "outputs": [
    {
     "name": "stderr",
     "output_type": "stream",
     "text": [
      "2021-07-27 18:08:46,003 - apscheduler.scheduler - INFO - Scheduler started\n",
      "2021-07-27 18:12:25,873 - telegram.ext.updater - INFO - Received signal 2 (SIGINT), stopping...\n",
      "2021-07-27 18:12:25,875 - apscheduler.scheduler - INFO - Scheduler has been shut down\n"
     ]
    }
   ],
   "source": [
    "import logging\n",
    "\n",
    "from telegram import Update\n",
    "from telegram.ext import Updater, CommandHandler, MessageHandler, Filters, CallbackContext\n",
    "\n",
    "\n",
    "\n",
    "# Enable logging\n",
    "logging.basicConfig(\n",
    "    format='%(asctime)s - %(name)s - %(levelname)s - %(message)s', level=logging.INFO\n",
    ")\n",
    "\n",
    "logger = logging.getLogger()\n",
    "\n",
    "\n",
    "\n",
    "\n",
    "def get_length_param(text: str) -> str:\n",
    "    tokens_count = len(tokenizer.encode(text))\n",
    "    if tokens_count <= 15:\n",
    "        len_param = '1'\n",
    "    elif tokens_count <= 50:\n",
    "        len_param = '2'\n",
    "    elif tokens_count <= 256:\n",
    "        len_param = '3'\n",
    "    else:\n",
    "        len_param = '-'\n",
    "    return len_param\n",
    "\n",
    "\n",
    "\n",
    "\n",
    "# Define a few command handlers. These usually take the two arguments update and\n",
    "# context. Error handlers also receive the raised TelegramError object in error.\n",
    "def start(update: Update, context: CallbackContext):\n",
    "    update.message.reply_text('Hi!')\n",
    "\n",
    "    \n",
    "    \n",
    "def answer(update: Update, context: CallbackContext):\n",
    "    global step, chat_history_ids\n",
    "\n",
    "    input_user = update.message.text   #input(\"===> User:\")\n",
    "\n",
    "    # encode the new user input, add parameters and return a tensor in Pytorch\n",
    "    new_user_input_ids = tokenizer.encode(f\"|0|{get_length_param(input_user)}|\" + input_user + tokenizer.eos_token +  \"|1|1|\", return_tensors=\"pt\")\n",
    "\n",
    "    # append the new user input tokens to the chat history\n",
    "    bot_input_ids = torch.cat([chat_history_ids, new_user_input_ids], dim=-1) if step > 0 else new_user_input_ids\n",
    "\n",
    "    # generated a response\n",
    "    chat_history_ids = model.generate(\n",
    "        bot_input_ids,\n",
    "        num_return_sequences=1,\n",
    "        max_length=512,\n",
    "        no_repeat_ngram_size=3,\n",
    "        do_sample=True,\n",
    "        top_k=50,\n",
    "        top_p=0.9,\n",
    "        temperature = 0.6,\n",
    "        mask_token_id=tokenizer.mask_token_id,\n",
    "        eos_token_id=tokenizer.eos_token_id,\n",
    "        unk_token_id=tokenizer.unk_token_id,\n",
    "        pad_token_id=tokenizer.pad_token_id,\n",
    "        device='cpu',\n",
    "    )\n",
    "\n",
    "\n",
    "    update.message.text = f\"My_bot: {tokenizer.decode(chat_history_ids[:, bot_input_ids.shape[-1]:][0], skip_special_tokens=True)}\"\n",
    "    update.message.reply_text(update.message.text)\n",
    "\n",
    "    \n",
    "    \n",
    "    step = step+1 \n",
    "    if step == 10:\n",
    "        step = 0\n",
    "\n",
    "\n",
    "\n",
    "\n",
    "    \n",
    "updater = Updater('__', use_context=True)\n",
    "dispatcher = updater.dispatcher\n",
    "\n",
    "# on different commands - answer in Telegram\n",
    "dispatcher.add_handler(CommandHandler(\"start\", start))\n",
    "dispatcher.add_handler(MessageHandler(Filters.text & ~Filters.command, answer))\n",
    "\n",
    "# Start the Bot\n",
    "\n",
    "step = 0\n",
    "\n",
    "\n",
    "updater.start_polling()\n",
    "updater.idle()"
   ]
  },
  {
   "cell_type": "markdown",
   "metadata": {},
   "source": [
    "Без каких либо настроек, работает практически идеально. "
   ]
  },
  {
   "cell_type": "markdown",
   "metadata": {},
   "source": [
    "### Чат бот с моделью\n",
    "Sber gpt3 large"
   ]
  },
  {
   "cell_type": "code",
   "execution_count": 6,
   "metadata": {
    "scrolled": true
   },
   "outputs": [
    {
     "name": "stderr",
     "output_type": "stream",
     "text": [
      "2021-07-27 17:12:31,324 - filelock - INFO - Lock 140638518760832 acquired on /home/rush/.cache/huggingface/transformers/7cf248f6c39196b677fb5b9b9ee8da3ded29f363018f4ccb1d0605721c719f4c.75e651cd6468a93822a2ca422a07b480dacd0c2d13ac194fdf771f768e6a8447.lock\n"
     ]
    },
    {
     "data": {
      "application/vnd.jupyter.widget-view+json": {
       "model_id": "9ca7a4e58368464fb12be9e6163104ce",
       "version_major": 2,
       "version_minor": 0
      },
      "text/plain": [
       "HBox(children=(HTML(value='Downloading'), FloatProgress(value=0.0, max=3141928084.0), HTML(value='')))"
      ]
     },
     "metadata": {},
     "output_type": "display_data"
    },
    {
     "name": "stderr",
     "output_type": "stream",
     "text": [
      "2021-07-27 17:17:12,701 - filelock - INFO - Lock 140638518760832 released on /home/rush/.cache/huggingface/transformers/7cf248f6c39196b677fb5b9b9ee8da3ded29f363018f4ccb1d0605721c719f4c.75e651cd6468a93822a2ca422a07b480dacd0c2d13ac194fdf771f768e6a8447.lock\n"
     ]
    },
    {
     "name": "stdout",
     "output_type": "stream",
     "text": [
      "\n"
     ]
    }
   ],
   "source": [
    "from transformers import GPT2LMHeadModel, GPT2Tokenizer\n",
    "\n",
    "\n",
    "model_name_or_path = \"sberbank-ai/rugpt3large_based_on_gpt2\""
   ]
  },
  {
   "cell_type": "code",
   "execution_count": 15,
   "metadata": {},
   "outputs": [],
   "source": [
    "tokenizer = GPT2Tokenizer.from_pretrained(model_name_or_path)\n",
    "model = GPT2LMHeadModel.from_pretrained(model_name_or_path)"
   ]
  },
  {
   "cell_type": "code",
   "execution_count": 11,
   "metadata": {},
   "outputs": [
    {
     "data": {
      "text/plain": [
       "<torch._C.Generator at 0x7fe978117e70>"
      ]
     },
     "execution_count": 11,
     "metadata": {},
     "output_type": "execute_result"
    }
   ],
   "source": [
    "import numpy as np\n",
    "\n",
    "np.random.seed(42)\n",
    "torch.manual_seed(42)"
   ]
  },
  {
   "cell_type": "code",
   "execution_count": null,
   "metadata": {
    "scrolled": true
   },
   "outputs": [],
   "source": [
    "import logging\n",
    "\n",
    "from telegram import Update\n",
    "from telegram.ext import Updater, CommandHandler, MessageHandler, Filters, CallbackContext\n",
    "\n",
    "\n",
    "\n",
    "# Enable logging\n",
    "logging.basicConfig(\n",
    "    format='%(asctime)s - %(name)s - %(levelname)s - %(message)s', level=logging.INFO\n",
    ")\n",
    "\n",
    "logger = logging.getLogger()\n",
    "\n",
    "\n",
    "\n",
    "\n",
    "# Define a few command handlers. These usually take the two arguments update and\n",
    "# context. Error handlers also receive the raised TelegramError object in error.\n",
    "def start(update: Update, context: CallbackContext):\n",
    "    update.message.reply_text('Hi!')\n",
    "\n",
    "    \n",
    "    \n",
    "def answer(update: Update, context: CallbackContext):\n",
    "    global step, chat_history_ids\n",
    "\n",
    "    input_user = update.message.text   #input(\"===> User:\")\n",
    "\n",
    "    # encode the new user input, add parameters and return a tensor in Pytorch\n",
    "    new_user_input_ids = tokenizer.encode(input_user, return_tensors=\"pt\")\n",
    "\n",
    "    # append the new user input tokens to the chat history\n",
    "    bot_input_ids = torch.cat([chat_history_ids, new_user_input_ids], dim=-1) if step > 0 else new_user_input_ids\n",
    "\n",
    "    # generated a response\n",
    "    chat_history_ids = model.generate(\n",
    "        bot_input_ids,\n",
    "        max_length = 256,\n",
    "        repetition_penalty = 5.0,\n",
    "        num_return_sequences=1,\n",
    "        no_repeat_ngram_size=3,\n",
    "        do_sample=True,\n",
    "        top_k=5,\n",
    "        top_p=0.9,\n",
    "        temperature = 0.6,\n",
    "        num_beams=None,\n",
    "        device='cpu',\n",
    "    )\n",
    "\n",
    "\n",
    "    update.message.text = f\"Sber_bot: {tokenizer.decode(chat_history_ids[:, bot_input_ids.shape[-1]:][0], skip_special_tokens=True)}\"\n",
    "    update.message.reply_text(update.message.text)\n",
    "\n",
    "    \n",
    "    \n",
    "    step = step+1 \n",
    "    if step == 10:\n",
    "        step = 0\n",
    "\n",
    "\n",
    "\n",
    "\n",
    "    \n",
    "updater = Updater('__', use_context=True)\n",
    "dispatcher = updater.dispatcher\n",
    "\n",
    "# on different commands - answer in Telegram\n",
    "dispatcher.add_handler(CommandHandler(\"start\", start))\n",
    "dispatcher.add_handler(MessageHandler(Filters.text & ~Filters.command, answer))\n",
    "\n",
    "# Start the Bot\n",
    "\n",
    "step = 0\n",
    "\n",
    "\n",
    "updater.start_polling()\n",
    "updater.idle()"
   ]
  },
  {
   "cell_type": "markdown",
   "metadata": {},
   "source": [
    "Работает через раз, очень долго обрабатывает входящие сообщения, и выдает чаще всего ахинею. Похоже требуется дообучение."
   ]
  }
 ],
 "metadata": {
  "kernelspec": {
   "display_name": "Python 3",
   "language": "python",
   "name": "python3"
  }
 },
 "nbformat": 4,
 "nbformat_minor": 4
}
